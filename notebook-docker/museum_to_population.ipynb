{
 "nbformat": 4,
 "nbformat_minor": 0,
 "metadata": {
  "colab": {
   "name": "museum_to_population.ipynb",
   "provenance": [],
   "collapsed_sections": []
  },
  "kernelspec": {
   "name": "python3",
   "display_name": "Python 3"
  },
  "pycharm": {
   "stem_cell": {
    "cell_type": "raw",
    "source": [],
    "metadata": {
     "collapsed": false
    }
   }
  }
 },
 "cells": [
  {
   "cell_type": "markdown",
   "metadata": {
    "id": "F52S6JVZb6zm",
    "colab_type": "text"
   },
   "source": [
    "# Setup\n",
    "\n",
    "Get required libraries"
   ]
  },
  {
   "cell_type": "code",
   "metadata": {
    "id": "cEd7KR9tbl24",
    "colab_type": "code",
    "outputId": "1db79c9d-0dd6-4d6e-bd5c-cfda94c45cbe",
    "colab": {
     "base_uri": "https://localhost:8080/",
     "height": 156
    }
   },
   "source": [
    "!pip install wikipedia\n",
    "\n",
    "import json\n",
    "import logging\n",
    "import os\n",
    "import urllib\n",
    "import sys\n",
    "\n",
    "import numpy as np\n",
    "import pandas as pd\n",
    "import requests\n",
    "import wikipedia as wp\n",
    "\n",
    "try:\n",
    "  from google.colab import drive, files\n",
    "  RESULTS_DIR = '/content/drive/My\\ Drive/results'\n",
    "  drive.mount(RESULTS_DIR)\n",
    "  COLAB = True\n",
    "except ImportError:\n",
    "  COLAB = False"
   ],
   "execution_count": 22,
   "outputs": [
    {
     "output_type": "stream",
     "text": [
      "Requirement already satisfied: wikipedia in /usr/local/lib/python3.6/dist-packages (1.4.0)\n",
      "Requirement already satisfied: requests<3.0.0,>=2.0.0 in /usr/local/lib/python3.6/dist-packages (from wikipedia) (2.21.0)\n",
      "Requirement already satisfied: beautifulsoup4 in /usr/local/lib/python3.6/dist-packages (from wikipedia) (4.6.3)\n",
      "Requirement already satisfied: certifi>=2017.4.17 in /usr/local/lib/python3.6/dist-packages (from requests<3.0.0,>=2.0.0->wikipedia) (2019.11.28)\n",
      "Requirement already satisfied: urllib3<1.25,>=1.21.1 in /usr/local/lib/python3.6/dist-packages (from requests<3.0.0,>=2.0.0->wikipedia) (1.24.3)\n",
      "Requirement already satisfied: chardet<3.1.0,>=3.0.2 in /usr/local/lib/python3.6/dist-packages (from requests<3.0.0,>=2.0.0->wikipedia) (3.0.4)\n",
      "Requirement already satisfied: idna<2.9,>=2.5 in /usr/local/lib/python3.6/dist-packages (from requests<3.0.0,>=2.0.0->wikipedia) (2.8)\n"
     ],
     "name": "stdout"
    }
   ]
  },
  {
   "cell_type": "markdown",
   "metadata": {
    "id": "ZiwW2rCY2TUb",
    "colab_type": "text"
   },
   "source": [
    "Set up the logging, report to STDOUT"
   ]
  },
  {
   "cell_type": "code",
   "metadata": {
    "id": "lSl19v_EkURs",
    "colab_type": "code",
    "colab": {}
   },
   "source": [
    "logging.basicConfig(stream=sys.stdout, level=logging.INFO)\n",
    "logger = logging.getLogger('museums')"
   ],
   "execution_count": 0,
   "outputs": []
  },
  {
   "cell_type": "markdown",
   "metadata": {
    "id": "sVynUiQ4cAe3",
    "colab_type": "text"
   },
   "source": [
    "# Fetch museum data\n",
    "\n",
    "Get the data"
   ]
  },
  {
   "cell_type": "code",
   "metadata": {
    "id": "6K6-uPtTcAq_",
    "colab_type": "code",
    "colab": {}
   },
   "source": [
    "# Get the html source\n",
    "html = wp.page(\"List of most visited museums\").html().encode(\"UTF-8\")\n",
    "\n",
    "# Convert to Pandas\n",
    "museum_df = pd.read_html(html)[0]"
   ],
   "execution_count": 0,
   "outputs": []
  },
  {
   "cell_type": "markdown",
   "metadata": {
    "id": "Kcr5XcE1dxwy",
    "colab_type": "text"
   },
   "source": [
    "Quick check"
   ]
  },
  {
   "cell_type": "code",
   "metadata": {
    "id": "O_s2-NlSdzIw",
    "colab_type": "code",
    "outputId": "73677c64-4daa-4df0-a5ca-ff6282530720",
    "colab": {
     "base_uri": "https://localhost:8080/",
     "height": 419
    }
   },
   "source": [
    "museum_df"
   ],
   "execution_count": 3,
   "outputs": [
    {
     "output_type": "execute_result",
     "data": {
      "text/html": [
       "<div>\n",
       "<style scoped>\n",
       "    .dataframe tbody tr th:only-of-type {\n",
       "        vertical-align: middle;\n",
       "    }\n",
       "\n",
       "    .dataframe tbody tr th {\n",
       "        vertical-align: top;\n",
       "    }\n",
       "\n",
       "    .dataframe thead th {\n",
       "        text-align: right;\n",
       "    }\n",
       "</style>\n",
       "<table border=\"1\" class=\"dataframe\">\n",
       "  <thead>\n",
       "    <tr style=\"text-align: right;\">\n",
       "      <th></th>\n",
       "      <th>Name</th>\n",
       "      <th>Country flag, city</th>\n",
       "      <th>Visitors per year</th>\n",
       "      <th>Year reported</th>\n",
       "    </tr>\n",
       "  </thead>\n",
       "  <tbody>\n",
       "    <tr>\n",
       "      <th>0</th>\n",
       "      <td>Louvre</td>\n",
       "      <td>Paris</td>\n",
       "      <td>10200000</td>\n",
       "      <td>2018[12]</td>\n",
       "    </tr>\n",
       "    <tr>\n",
       "      <th>1</th>\n",
       "      <td>National Museum of China</td>\n",
       "      <td>Beijing</td>\n",
       "      <td>8610092</td>\n",
       "      <td>2018[13]</td>\n",
       "    </tr>\n",
       "    <tr>\n",
       "      <th>2</th>\n",
       "      <td>Metropolitan Museum of Art[b]</td>\n",
       "      <td>New York City</td>\n",
       "      <td>6953927</td>\n",
       "      <td>2018[13]</td>\n",
       "    </tr>\n",
       "    <tr>\n",
       "      <th>3</th>\n",
       "      <td>Vatican Museums</td>\n",
       "      <td>Vatican City</td>\n",
       "      <td>6756186</td>\n",
       "      <td>2018[13]</td>\n",
       "    </tr>\n",
       "    <tr>\n",
       "      <th>4</th>\n",
       "      <td>National Air and Space Museum</td>\n",
       "      <td>Washington, D.C.</td>\n",
       "      <td>6200000</td>\n",
       "      <td>2018[12]</td>\n",
       "    </tr>\n",
       "    <tr>\n",
       "      <th>...</th>\n",
       "      <td>...</td>\n",
       "      <td>...</td>\n",
       "      <td>...</td>\n",
       "      <td>...</td>\n",
       "    </tr>\n",
       "    <tr>\n",
       "      <th>57</th>\n",
       "      <td>Van Gogh Museum</td>\n",
       "      <td>Amsterdam</td>\n",
       "      <td>2161160</td>\n",
       "      <td>2018[13]</td>\n",
       "    </tr>\n",
       "    <tr>\n",
       "      <th>58</th>\n",
       "      <td>Tretyakov Gallery</td>\n",
       "      <td>Moscow</td>\n",
       "      <td>2148538</td>\n",
       "      <td>2018[13]</td>\n",
       "    </tr>\n",
       "    <tr>\n",
       "      <th>59</th>\n",
       "      <td>Shanghai Museum</td>\n",
       "      <td>Shanghai</td>\n",
       "      <td>2111730</td>\n",
       "      <td>2018[13]</td>\n",
       "    </tr>\n",
       "    <tr>\n",
       "      <th>60</th>\n",
       "      <td>Auschwitz-Birkenau State Museum</td>\n",
       "      <td>OÅwiÄcim</td>\n",
       "      <td>2100000</td>\n",
       "      <td>2018[12]</td>\n",
       "    </tr>\n",
       "    <tr>\n",
       "      <th>61</th>\n",
       "      <td>National Folk Museum of Korea</td>\n",
       "      <td>Seoul</td>\n",
       "      <td>2054719</td>\n",
       "      <td>2018[13]</td>\n",
       "    </tr>\n",
       "  </tbody>\n",
       "</table>\n",
       "<p>62 rows × 4 columns</p>\n",
       "</div>"
      ],
      "text/plain": [
       "                               Name  ... Year reported\n",
       "0                            Louvre  ...      2018[12]\n",
       "1          National Museum of China  ...      2018[13]\n",
       "2     Metropolitan Museum of Art[b]  ...      2018[13]\n",
       "3                   Vatican Museums  ...      2018[13]\n",
       "4     National Air and Space Museum  ...      2018[12]\n",
       "..                              ...  ...           ...\n",
       "57                  Van Gogh Museum  ...      2018[13]\n",
       "58                Tretyakov Gallery  ...      2018[13]\n",
       "59                  Shanghai Museum  ...      2018[13]\n",
       "60  Auschwitz-Birkenau State Museum  ...      2018[12]\n",
       "61    National Folk Museum of Korea  ...      2018[13]\n",
       "\n",
       "[62 rows x 4 columns]"
      ]
     },
     "metadata": {
      "tags": []
     },
     "execution_count": 3
    }
   ]
  },
  {
   "cell_type": "markdown",
   "metadata": {
    "id": "Z7PnCMjicScB",
    "colab_type": "text",
    "pycharm": {
     "name": "#%% md\n"
    }
   },
   "source": [
    "## Data cleaning\n",
    "~~1) Remove unnecessary multi-level index~~ *Fixed in Pandas update*\n",
    "\n",
    "~~2) Remove \"Unnamed\" column~~ *Fixed in Pandas update*\n",
    "\n",
    "5) Rename columns\n",
    "\n",
    "4) Remove superscript notes in `Museum` and `Year` columns\n",
    "\n",
    "5) Remove trailing regions in City, i.e. `Washington, D.C.` becomes `Washington`\n",
    "\n"
   ]
  },
  {
   "cell_type": "code",
   "metadata": {
    "id": "OF3zX8PSeOrH",
    "colab_type": "code",
    "colab": {}
   },
   "source": [
    "# museum_df.columns = museum_df.columns.droplevel(0)"
   ],
   "execution_count": 0,
   "outputs": []
  },
  {
   "cell_type": "code",
   "metadata": {
    "id": "L1cKA0Zoenhr",
    "colab_type": "code",
    "colab": {}
   },
   "source": [
    "# museum_df = museum_df.drop(\"Unnamed: 4_level_1\", axis=1)"
   ],
   "execution_count": 0,
   "outputs": []
  },
  {
   "cell_type": "code",
   "metadata": {
    "id": "LEDG5R7_sRDq",
    "colab_type": "code",
    "colab": {}
   },
   "source": [
    "museum_df = museum_df.rename(columns={\n",
    "    \"Name\": \"Museum\",\n",
    "    \"Country flag, city\": \"City\",\n",
    "    \"Visitors per year\": \"Visitors\",\n",
    "    \"Year reported\": \"Year\",   \n",
    "})"
   ],
   "execution_count": 0,
   "outputs": []
  },
  {
   "cell_type": "code",
   "metadata": {
    "id": "ftJCastEgJmk",
    "colab_type": "code",
    "colab": {}
   },
   "source": [
    "museum_df[\"Year\"].replace(\n",
    "    inplace=True,\n",
    "    regex=True,\n",
    "    to_replace=r'\\[.*\\]',\n",
    "    value=r'',\n",
    ")\n",
    "museum_df.Year.fillna(value=pd.np.nan, inplace=True)\n",
    "museum_df[\"Year\"] = museum_df[\"Year\"].astype(int)"
   ],
   "execution_count": 0,
   "outputs": []
  },
  {
   "cell_type": "code",
   "metadata": {
    "id": "DGey80UbcbQb",
    "colab_type": "code",
    "colab": {},
    "pycharm": {
     "name": "#%%\n"
    }
   },
   "source": [
    "museum_df[\"Museum\"].replace(\n",
    "    inplace=True,\n",
    "    regex=True,\n",
    "    to_replace=r'\\[\\S\\]',\n",
    "    value=r''\n",
    ")"
   ],
   "execution_count": 0,
   "outputs": []
  },
  {
   "cell_type": "code",
   "metadata": {
    "id": "OEJhNbitHVU2",
    "colab_type": "code",
    "colab": {}
   },
   "source": [
    "museum_df['City'].replace(\n",
    "    inplace=True,\n",
    "    regex=True,\n",
    "    to_replace=r'\\,.*',\n",
    "    value=r''\n",
    ")\n",
    "\n",
    "# Dirty fix for Auschwitz\n",
    "museum_df[\"City\"] = museum_df[\"City\"].astype(\"str\").str.replace(\"OÅ\\x9bwiÄ\\x99cim\", \"Oswiecim\")"
   ],
   "execution_count": 0,
   "outputs": []
  },
  {
   "cell_type": "markdown",
   "metadata": {
    "id": "ZawWHYNGsQv5",
    "colab_type": "text"
   },
   "source": [
    "Eye-ball the results"
   ]
  },
  {
   "cell_type": "code",
   "metadata": {
    "id": "yPvrLpp3nSZW",
    "colab_type": "code",
    "outputId": "19e9df37-7f85-4416-b2e3-1deba92352a7",
    "colab": {
     "base_uri": "https://localhost:8080/",
     "height": 419
    }
   },
   "source": [
    "museum_df"
   ],
   "execution_count": 10,
   "outputs": [
    {
     "output_type": "execute_result",
     "data": {
      "text/html": [
       "<div>\n",
       "<style scoped>\n",
       "    .dataframe tbody tr th:only-of-type {\n",
       "        vertical-align: middle;\n",
       "    }\n",
       "\n",
       "    .dataframe tbody tr th {\n",
       "        vertical-align: top;\n",
       "    }\n",
       "\n",
       "    .dataframe thead th {\n",
       "        text-align: right;\n",
       "    }\n",
       "</style>\n",
       "<table border=\"1\" class=\"dataframe\">\n",
       "  <thead>\n",
       "    <tr style=\"text-align: right;\">\n",
       "      <th></th>\n",
       "      <th>Museum</th>\n",
       "      <th>City</th>\n",
       "      <th>Visitors</th>\n",
       "      <th>Year</th>\n",
       "    </tr>\n",
       "  </thead>\n",
       "  <tbody>\n",
       "    <tr>\n",
       "      <th>0</th>\n",
       "      <td>Louvre</td>\n",
       "      <td>Paris</td>\n",
       "      <td>10200000</td>\n",
       "      <td>2018</td>\n",
       "    </tr>\n",
       "    <tr>\n",
       "      <th>1</th>\n",
       "      <td>National Museum of China</td>\n",
       "      <td>Beijing</td>\n",
       "      <td>8610092</td>\n",
       "      <td>2018</td>\n",
       "    </tr>\n",
       "    <tr>\n",
       "      <th>2</th>\n",
       "      <td>Metropolitan Museum of Art</td>\n",
       "      <td>New York City</td>\n",
       "      <td>6953927</td>\n",
       "      <td>2018</td>\n",
       "    </tr>\n",
       "    <tr>\n",
       "      <th>3</th>\n",
       "      <td>Vatican Museums</td>\n",
       "      <td>Vatican City</td>\n",
       "      <td>6756186</td>\n",
       "      <td>2018</td>\n",
       "    </tr>\n",
       "    <tr>\n",
       "      <th>4</th>\n",
       "      <td>National Air and Space Museum</td>\n",
       "      <td>Washington</td>\n",
       "      <td>6200000</td>\n",
       "      <td>2018</td>\n",
       "    </tr>\n",
       "    <tr>\n",
       "      <th>...</th>\n",
       "      <td>...</td>\n",
       "      <td>...</td>\n",
       "      <td>...</td>\n",
       "      <td>...</td>\n",
       "    </tr>\n",
       "    <tr>\n",
       "      <th>57</th>\n",
       "      <td>Van Gogh Museum</td>\n",
       "      <td>Amsterdam</td>\n",
       "      <td>2161160</td>\n",
       "      <td>2018</td>\n",
       "    </tr>\n",
       "    <tr>\n",
       "      <th>58</th>\n",
       "      <td>Tretyakov Gallery</td>\n",
       "      <td>Moscow</td>\n",
       "      <td>2148538</td>\n",
       "      <td>2018</td>\n",
       "    </tr>\n",
       "    <tr>\n",
       "      <th>59</th>\n",
       "      <td>Shanghai Museum</td>\n",
       "      <td>Shanghai</td>\n",
       "      <td>2111730</td>\n",
       "      <td>2018</td>\n",
       "    </tr>\n",
       "    <tr>\n",
       "      <th>60</th>\n",
       "      <td>Auschwitz-Birkenau State Museum</td>\n",
       "      <td>Oswiecim</td>\n",
       "      <td>2100000</td>\n",
       "      <td>2018</td>\n",
       "    </tr>\n",
       "    <tr>\n",
       "      <th>61</th>\n",
       "      <td>National Folk Museum of Korea</td>\n",
       "      <td>Seoul</td>\n",
       "      <td>2054719</td>\n",
       "      <td>2018</td>\n",
       "    </tr>\n",
       "  </tbody>\n",
       "</table>\n",
       "<p>62 rows × 4 columns</p>\n",
       "</div>"
      ],
      "text/plain": [
       "                             Museum           City  Visitors  Year\n",
       "0                            Louvre          Paris  10200000  2018\n",
       "1          National Museum of China        Beijing   8610092  2018\n",
       "2        Metropolitan Museum of Art  New York City   6953927  2018\n",
       "3                   Vatican Museums   Vatican City   6756186  2018\n",
       "4     National Air and Space Museum     Washington   6200000  2018\n",
       "..                              ...            ...       ...   ...\n",
       "57                  Van Gogh Museum      Amsterdam   2161160  2018\n",
       "58                Tretyakov Gallery         Moscow   2148538  2018\n",
       "59                  Shanghai Museum       Shanghai   2111730  2018\n",
       "60  Auschwitz-Birkenau State Museum       Oswiecim   2100000  2018\n",
       "61    National Folk Museum of Korea          Seoul   2054719  2018\n",
       "\n",
       "[62 rows x 4 columns]"
      ]
     },
     "metadata": {
      "tags": []
     },
     "execution_count": 10
    }
   ]
  },
  {
   "cell_type": "markdown",
   "metadata": {
    "id": "d_32PdN7ro-m",
    "colab_type": "text",
    "pycharm": {
     "name": "#%% md\n"
    }
   },
   "source": [
    "## Save result"
   ]
  },
  {
   "cell_type": "code",
   "metadata": {
    "id": "vtqdsLM5iHI5",
    "colab_type": "code",
    "colab": {}
   },
   "source": [
    "from datetime import date\n",
    "now = date.today()\n",
    "today = now.strftime(\"%Y%m%d\")"
   ],
   "execution_count": 0,
   "outputs": []
  },
  {
   "cell_type": "code",
   "metadata": {
    "id": "gWiJp9J3r9dp",
    "colab_type": "code",
    "colab": {},
    "pycharm": {
     "name": "#%%\n"
    }
   },
   "source": [
    "if COLAB:\n",
    "    museum_df.to_csv(\n",
    "        os.path.join(\n",
    "            RESULTS_DIR,\n",
    "            f\"museums_{today}.csv\"\n",
    "        )\n",
    "    )\n",
    "else:\n",
    "    museum_df.to_csv(f\"museums_{today}.csv\")"
   ],
   "execution_count": 0,
   "outputs": []
  },
  {
   "cell_type": "markdown",
   "metadata": {
    "id": "E27slcfEtxF1",
    "colab_type": "text"
   },
   "source": [
    "# City populations\n",
    "\n",
    "As some of the museums are listed in cities with small residential populations (notably Vatican City and Oswiecim (a small Polish village)), we will not be able to just pull a list of city populations and join straight away on the database.\n",
    "\n",
    "Instead, we'll need to setup a loop for each city with a lookup to Wikipedia for that city. Then parse the page for the population from the metadata.\n",
    "\n",
    "**Assumption:** This method will note be able to necessarily exactly correlate the date of population count with the year of museum."
   ]
  },
  {
   "cell_type": "markdown",
   "metadata": {
    "id": "MK2dQDDa8p0M",
    "colab_type": "text",
    "pycharm": {
     "name": "#%% md\n"
    }
   },
   "source": [
    "## Create fetch city info function\n",
    "Create a function to fetch city metadata"
   ]
  },
  {
   "cell_type": "code",
   "metadata": {
    "id": "FO40K3wi2Qr3",
    "colab_type": "code",
    "colab": {},
    "pycharm": {
     "name": "#%%\n"
    }
   },
   "source": [
    "def get_city_information_from_opendata(city : str, country : str='') -> dict:\n",
    "    \"\"\"Get a city's information from the OpenDataSoft API.\n",
    "\n",
    "    Notes\n",
    "    -----\n",
    "    Function returns only the largest matching city.\n",
    "    i.e. ``city=\"London\"`` returns London, UK not London, ON, Canada\n",
    "    \n",
    "    Parameters\n",
    "    ----------\n",
    "    city : str\n",
    "    country : str\n",
    "        Optional, 2 letter country code for further filtering\n",
    "\n",
    "    Returns\n",
    "    -------\n",
    "    dict\n",
    "\n",
    "    \"\"\"\n",
    "    api_url = \"https://public.opendatasoft.com/api/records/1.0/search\"\n",
    "\n",
    "    parameters = {\n",
    "        \"dataset\": \"worldcitiespop\",\n",
    "        \"q\": city,\n",
    "        \"sort\": \"population\",\n",
    "        \"facet\": \"country\",\n",
    "    }\n",
    "\n",
    "    if country:\n",
    "        parameters.update({\n",
    "            \"refine.country\": country,\n",
    "        })\n",
    "\n",
    "    response = requests.get(\n",
    "        url=api_url,\n",
    "        params=parameters,\n",
    "        headers={'Content-type': 'text/plain; charset=utf-8'}\n",
    "    )\n",
    "\n",
    "    raw_response = json.loads(response.content)\n",
    "\n",
    "    if raw_response[\"records\"]:\n",
    "        city_info = raw_response[\"records\"][0][\"fields\"]\n",
    "        city_info[\"timestamp\"] = raw_response[\"records\"][0][\"record_timestamp\"]\n",
    "    else:\n",
    "        city_info = dict()\n",
    "\n",
    "    return city_info"
   ],
   "execution_count": 0,
   "outputs": []
  },
  {
   "cell_type": "markdown",
   "metadata": {
    "id": "-63cAEqS8_7q",
    "colab_type": "text",
    "pycharm": {
     "name": "#%% md\n"
    }
   },
   "source": [
    "Create a new DataFrame, using the city dataframe as the basis"
   ]
  },
  {
   "cell_type": "code",
   "metadata": {
    "id": "QKGEU8WR7Y_u",
    "colab_type": "code",
    "colab": {},
    "pycharm": {
     "name": "#%%\n"
    }
   },
   "source": [
    "cities_df = museum_df[\"City\"].copy().to_frame()"
   ],
   "execution_count": 0,
   "outputs": []
  },
  {
   "cell_type": "markdown",
   "metadata": {
    "id": "5ZtOKV3N851-",
    "colab_type": "text",
    "pycharm": {
     "name": "#%% md\n"
    }
   },
   "source": [
    "Create new columns for `Population` and `Year`"
   ]
  },
  {
   "cell_type": "code",
   "metadata": {
    "id": "Pf4xeH-F9DSH",
    "colab_type": "code",
    "colab": {},
    "pycharm": {
     "name": "#%%\n"
    }
   },
   "source": [
    "cities_df[\"Population\"] = np.nan\n",
    "cities_df[\"Timestamp\"] = ''"
   ],
   "execution_count": 0,
   "outputs": []
  },
  {
   "cell_type": "markdown",
   "metadata": {
    "id": "agzJqxMa9FOK",
    "colab_type": "text",
    "pycharm": {
     "name": "#%% md\n"
    }
   },
   "source": [
    "## Fetch data\n",
    "\n",
    "For each city fetch the metadata\n",
    "\n",
    "**Notes**\n",
    "\n",
    "1) This is slow as we're hiting the API for each city\n",
    "\n",
    "2) This is slow as we're going step-wise through the dataframe. We should use `pd.DataFrame[column].apply()` to have the transformation applied in C at the column level."
   ]
  },
  {
   "cell_type": "code",
   "metadata": {
    "id": "YdFeRH5QufY6",
    "colab_type": "code",
    "colab": {}
   },
   "source": [
    "for idx, row in cities_df.iterrows():\n",
    "    city = row[\"City\"].encode('ascii', 'ignore')\n",
    "\n",
    "    city_meta = get_city_information_from_opendata(city)\n",
    "\n",
    "    cities_df.at[idx, \"Population\"] = city_meta.get(\"population\", np.nan)\n",
    "    cities_df.at[idx, \"Timestamp\"] = city_meta.get(\"timestamp\", np.nan)\n",
    "\n"
   ],
   "execution_count": 0,
   "outputs": []
  },
  {
   "cell_type": "code",
   "metadata": {
    "id": "vOnEhSW9Wrqq",
    "colab_type": "code",
    "outputId": "251364c0-b126-4171-b7fe-f0a4c0937f4f",
    "colab": {
     "base_uri": "https://localhost:8080/",
     "height": 419
    },
    "pycharm": {
     "name": "#%%\n"
    }
   },
   "source": [
    "cities_df[\"Year\"] = pd.to_datetime(cities_df[\"Timestamp\"]).apply(lambda x: x.strftime('%Y'))\n",
    "\n",
    "cities_df"
   ],
   "execution_count": 18,
   "outputs": [
    {
     "output_type": "execute_result",
     "data": {
      "text/html": [
       "<div>\n",
       "<style scoped>\n",
       "    .dataframe tbody tr th:only-of-type {\n",
       "        vertical-align: middle;\n",
       "    }\n",
       "\n",
       "    .dataframe tbody tr th {\n",
       "        vertical-align: top;\n",
       "    }\n",
       "\n",
       "    .dataframe thead th {\n",
       "        text-align: right;\n",
       "    }\n",
       "</style>\n",
       "<table border=\"1\" class=\"dataframe\">\n",
       "  <thead>\n",
       "    <tr style=\"text-align: right;\">\n",
       "      <th></th>\n",
       "      <th>City</th>\n",
       "      <th>Population</th>\n",
       "      <th>Timestamp</th>\n",
       "      <th>Year</th>\n",
       "    </tr>\n",
       "  </thead>\n",
       "  <tbody>\n",
       "    <tr>\n",
       "      <th>0</th>\n",
       "      <td>Paris</td>\n",
       "      <td>2110694.0</td>\n",
       "      <td>2018-01-08T11:47:45.345000+00:00</td>\n",
       "      <td>2018</td>\n",
       "    </tr>\n",
       "    <tr>\n",
       "      <th>1</th>\n",
       "      <td>Beijing</td>\n",
       "      <td>NaN</td>\n",
       "      <td>2018-01-08T11:47:45.345000+00:00</td>\n",
       "      <td>2018</td>\n",
       "    </tr>\n",
       "    <tr>\n",
       "      <th>2</th>\n",
       "      <td>New York City</td>\n",
       "      <td>NaN</td>\n",
       "      <td>NaN</td>\n",
       "      <td>NaT</td>\n",
       "    </tr>\n",
       "    <tr>\n",
       "      <th>3</th>\n",
       "      <td>Vatican City</td>\n",
       "      <td>NaN</td>\n",
       "      <td>NaN</td>\n",
       "      <td>NaT</td>\n",
       "    </tr>\n",
       "    <tr>\n",
       "      <th>4</th>\n",
       "      <td>Washington</td>\n",
       "      <td>552433.0</td>\n",
       "      <td>2018-01-08T11:47:45.345000+00:00</td>\n",
       "      <td>2018</td>\n",
       "    </tr>\n",
       "    <tr>\n",
       "      <th>...</th>\n",
       "      <td>...</td>\n",
       "      <td>...</td>\n",
       "      <td>...</td>\n",
       "      <td>...</td>\n",
       "    </tr>\n",
       "    <tr>\n",
       "      <th>57</th>\n",
       "      <td>Amsterdam</td>\n",
       "      <td>745811.0</td>\n",
       "      <td>2018-01-08T11:47:45.345000+00:00</td>\n",
       "      <td>2018</td>\n",
       "    </tr>\n",
       "    <tr>\n",
       "      <th>58</th>\n",
       "      <td>Moscow</td>\n",
       "      <td>10381288.0</td>\n",
       "      <td>2018-01-08T11:47:45.345000+00:00</td>\n",
       "      <td>2018</td>\n",
       "    </tr>\n",
       "    <tr>\n",
       "      <th>59</th>\n",
       "      <td>Shanghai</td>\n",
       "      <td>14608512.0</td>\n",
       "      <td>2018-01-08T11:47:45.345000+00:00</td>\n",
       "      <td>2018</td>\n",
       "    </tr>\n",
       "    <tr>\n",
       "      <th>60</th>\n",
       "      <td>Oswiecim</td>\n",
       "      <td>41143.0</td>\n",
       "      <td>2018-01-08T11:47:45.345000+00:00</td>\n",
       "      <td>2018</td>\n",
       "    </tr>\n",
       "    <tr>\n",
       "      <th>61</th>\n",
       "      <td>Seoul</td>\n",
       "      <td>10323448.0</td>\n",
       "      <td>2018-01-08T11:47:45.345000+00:00</td>\n",
       "      <td>2018</td>\n",
       "    </tr>\n",
       "  </tbody>\n",
       "</table>\n",
       "<p>62 rows × 4 columns</p>\n",
       "</div>"
      ],
      "text/plain": [
       "             City  Population                         Timestamp  Year\n",
       "0           Paris   2110694.0  2018-01-08T11:47:45.345000+00:00  2018\n",
       "1         Beijing         NaN  2018-01-08T11:47:45.345000+00:00  2018\n",
       "2   New York City         NaN                               NaN   NaT\n",
       "3    Vatican City         NaN                               NaN   NaT\n",
       "4      Washington    552433.0  2018-01-08T11:47:45.345000+00:00  2018\n",
       "..            ...         ...                               ...   ...\n",
       "57      Amsterdam    745811.0  2018-01-08T11:47:45.345000+00:00  2018\n",
       "58         Moscow  10381288.0  2018-01-08T11:47:45.345000+00:00  2018\n",
       "59       Shanghai  14608512.0  2018-01-08T11:47:45.345000+00:00  2018\n",
       "60       Oswiecim     41143.0  2018-01-08T11:47:45.345000+00:00  2018\n",
       "61          Seoul  10323448.0  2018-01-08T11:47:45.345000+00:00  2018\n",
       "\n",
       "[62 rows x 4 columns]"
      ]
     },
     "metadata": {
      "tags": []
     },
     "execution_count": 18
    }
   ]
  },
  {
   "cell_type": "markdown",
   "metadata": {
    "colab_type": "text",
    "id": "YL_G4qidVhed",
    "pycharm": {
     "name": "#%% md\n"
    }
   },
   "source": [
    "## Save result\n",
    "As our list is small for this example, let's just quickly use SQLite as a PoC, before we'd scale up to Postgres."
   ]
  },
  {
   "cell_type": "code",
   "metadata": {
    "colab_type": "code",
    "id": "A-F2Ow5PVmH1",
    "colab": {},
    "pycharm": {
     "name": "#%%\n"
    }
   },
   "source": [
    "if COLAB:\n",
    "    cities_df.to_csv(\n",
    "        os.path.join(\n",
    "            RESULTS_DIR,\n",
    "            f\"city_population_{today}.csv\"\n",
    "        )\n",
    "    )\n",
    "else:\n",
    "    cities_df.to_csv(f\"city_population_{today}.csv\")"
   ],
   "execution_count": 0,
   "outputs": []
  },
  {
   "cell_type": "markdown",
   "metadata": {
    "id": "AGV922IfV76s",
    "colab_type": "text"
   },
   "source": [
    "# Database setup\n",
    "\n",
    "As our list is small for this example, let's just quickly use SQLite as a PoC, before we'd scale up to Postgres."
   ]
  },
  {
   "cell_type": "markdown",
   "metadata": {
    "id": "qLCsH5_gWTsE",
    "colab_type": "text",
    "pycharm": {
     "name": "#%% md\n"
    }
   },
   "source": [
    "## Create a database"
   ]
  },
  {
   "cell_type": "code",
   "metadata": {
    "id": "vmL72xwpWAyp",
    "colab_type": "code",
    "colab": {}
   },
   "source": [
    "import sqlite3\n",
    "from sqlite3 import Error\n",
    " \n",
    " \n",
    "def create_connection(db_file : str) -> sqlite3.connect:\n",
    "    \"\"\"Create a database connection to a SQLite database.\"\"\"\n",
    "    conn = None\n",
    "    try:\n",
    "        conn = sqlite3.connect(db_file)\n",
    "        logger.info(sqlite3.version)\n",
    "    except Error as e:\n",
    "        logger.error(e)\n",
    "\n",
    "    return conn"
   ],
   "execution_count": 0,
   "outputs": []
  },
  {
   "cell_type": "code",
   "metadata": {
    "id": "WsuaMjZWXNiX",
    "colab_type": "code",
    "outputId": "35a0f6bc-df55-4efc-bad3-fb46a6280a61",
    "colab": {
     "base_uri": "https://localhost:8080/",
     "height": 51
    },
    "pycharm": {
     "name": "#%%\n"
    }
   },
   "source": [
    "db_url = \"museum.db\"\n",
    "\n",
    "# Remove any previous runs\n",
    "try:\n",
    "    os.remove(db_url)\n",
    "except FileNotFoundError:\n",
    "    logger.warn(\"No previous database found, creating one now.\")\n",
    "finally:\n",
    "    os.mknod(db_url)\n",
    "\n",
    "create_connection(db_url)"
   ],
   "execution_count": 21,
   "outputs": [
    {
     "output_type": "stream",
     "text": [
      "2.6.0\n"
     ],
     "name": "stdout"
    },
    {
     "output_type": "execute_result",
     "data": {
      "text/plain": [
       "<sqlite3.Connection at 0x7fa57a419810>"
      ]
     },
     "metadata": {
      "tags": []
     },
     "execution_count": 21
    }
   ]
  },
  {
   "cell_type": "markdown",
   "metadata": {
    "id": "NRVu3Ew_YMQ9",
    "colab_type": "text",
    "pycharm": {
     "name": "#%% md\n"
    }
   },
   "source": [
    "### Create tables in database"
   ]
  },
  {
   "cell_type": "code",
   "metadata": {
    "id": "PRkwfYu-YOwd",
    "colab_type": "code",
    "colab": {}
   },
   "source": [
    "def exec_sql(conn : sqlite3.connect, sql : str):\n",
    "    \"\"\"Safely attempt an sql statement.\n",
    "\n",
    "    Parameters\n",
    "    ----------\n",
    "    conn: sqlite3.connect\n",
    "      Connection object\n",
    "    sql: str\n",
    "      a SQL statement\n",
    "      \n",
    "    \"\"\"\n",
    "    try:\n",
    "        c = conn.cursor()\n",
    "        c.execute(sql)\n",
    "    except Error as e:\n",
    "        logger.warn(e)"
   ],
   "execution_count": 0,
   "outputs": []
  },
  {
   "cell_type": "code",
   "metadata": {
    "id": "8Dmt2zMiYRbw",
    "colab_type": "code",
    "colab": {}
   },
   "source": [
    "cities_tbl_sql = \"\"\"\n",
    "CREATE TABLE IF NOT EXISTS cities (\n",
    "    id integer PRIMARY KEY AUTOINCREMENT,\n",
    "    city text NOT NULL\n",
    ");\n",
    "\"\"\"\n",
    "\n",
    "population_tbl_sql = \"\"\"\n",
    "CREATE TABLE IF NOT EXISTS population (\n",
    "    id integer PRIMARY KEY AUTOINCREMENT,\n",
    "    city_id integer NOT NULL,\n",
    "    population integer NOT NULL,\n",
    "    year integer NOT NULL,\n",
    "    FOREIGN KEY (city_id) REFERENCES cities (id)\n",
    ");\n",
    "\"\"\"\n",
    "\n",
    "museums_tbl_sql = \"\"\"\n",
    "CREATE TABLE IF NOT EXISTS museums (\n",
    "    id integer PRIMARY KEY AUTOINCREMENT,\n",
    "    name text NOT NULL,\n",
    "    city_id integer NOT NULL,\n",
    "    FOREIGN KEY (city_id) REFERENCES cities (id)\n",
    ");\n",
    "\"\"\"\n",
    "\n",
    "visitors_tbl_sql = \"\"\"\n",
    "CREATE TABLE IF NOT EXISTS visitors (\n",
    "    id integer PRIMARY KEY AUTOINCREMENT,\n",
    "    museum_id integer NOT NULL,\n",
    "    visitors integer,\n",
    "    year integer,\n",
    "    FOREIGN KEY (museum_id) REFERENCES museums (id)\n",
    ");\n",
    "\"\"\""
   ],
   "execution_count": 0,
   "outputs": []
  },
  {
   "cell_type": "code",
   "metadata": {
    "id": "ST_FSNQFaTKJ",
    "colab_type": "code",
    "outputId": "9fd82d49-ba7f-4ef6-9d74-c1bb189a24cd",
    "colab": {
     "base_uri": "https://localhost:8080/",
     "height": 34
    },
    "pycharm": {
     "name": "#%%\n"
    }
   },
   "source": [
    "conn = create_connection(db_url)\n",
    "\n",
    "if conn:\n",
    "    exec_sql(conn, \"DROP TABLE IF EXISTS cities;\")\n",
    "    exec_sql(conn, \"DROP TABLE IF EXISTS population;\")\n",
    "    exec_sql(conn, \"DROP TABLE IF EXISTS museums;\")\n",
    "    exec_sql(conn, \"DROP TABLE IF EXISTS visitors;\")\n",
    "    exec_sql(conn, cities_tbl_sql)\n",
    "    exec_sql(conn, population_tbl_sql)\n",
    "    exec_sql(conn, museums_tbl_sql)\n",
    "    exec_sql(conn, visitors_tbl_sql)\n",
    "\n",
    "else:\n",
    "    logger.error(\"Error - Lost the database connection!\")"
   ],
   "execution_count": 24,
   "outputs": [
    {
     "output_type": "stream",
     "text": [
      "2.6.0\n"
     ],
     "name": "stdout"
    }
   ]
  },
  {
   "cell_type": "markdown",
   "metadata": {
    "id": "enAVpY_pbLSj",
    "colab_type": "text"
   },
   "source": [
    "## Insert the data"
   ]
  },
  {
   "cell_type": "markdown",
   "metadata": {
    "id": "qO-NEoVkVQRo",
    "colab_type": "text",
    "pycharm": {
     "name": "#%% md\n"
    }
   },
   "source": [
    "#### Functions\n",
    "Create a generic execute against the database function"
   ]
  },
  {
   "cell_type": "code",
   "metadata": {
    "id": "9me29BRhUXDd",
    "colab_type": "code",
    "colab": {},
    "pycharm": {
     "name": "#%%\n"
    }
   },
   "source": [
    "def add_to_db(conn : sqlite3.connect, sql : str) -> int:\n",
    "    \"\"\"Insert a record to the database.\n",
    "\n",
    "    Parameters\n",
    "    ----------\n",
    "    conn : sqlite3.connect\n",
    "        Connection object\n",
    "    sql : str\n",
    "\n",
    "    Returns\n",
    "    -------\n",
    "    int\n",
    "        record id\n",
    "    \n",
    "    \"\"\"\n",
    "    cur = conn.cursor()\n",
    "\n",
    "    try:\n",
    "        cur.execute(sql)\n",
    "        new_id = cur.lastrowid\n",
    "    except:\n",
    "        new_id = 0\n",
    "\n",
    "    return new_id"
   ],
   "execution_count": 0,
   "outputs": []
  },
  {
   "cell_type": "markdown",
   "metadata": {
    "id": "HW0bNHKzVajU",
    "colab_type": "text",
    "pycharm": {
     "name": "#%% md\n"
    }
   },
   "source": [
    "Create functions for inserting to each table"
   ]
  },
  {
   "cell_type": "code",
   "metadata": {
    "id": "rpT0Ang0bOvm",
    "colab_type": "code",
    "colab": {}
   },
   "source": [
    "def create_city(conn : sqlite3.connect, city : str) -> int:\n",
    "    \"\"\"Insert a city df record into the cities tbl.\n",
    "\n",
    "    Parameters\n",
    "    ----------\n",
    "    conn : sqlite3.connect\n",
    "        Connection object\n",
    "    city : str\n",
    "\n",
    "    Returns\n",
    "    -------\n",
    "    int\n",
    "        record id\n",
    "\n",
    "    \"\"\"\n",
    "    sql = f\"\"\"\n",
    "    INSERT INTO cities (\n",
    "        city\n",
    "    )\n",
    "    VALUES(\n",
    "        \"{city}\"\n",
    "    );\n",
    "    \"\"\"\n",
    "    new_id = add_to_db(conn, sql)\n",
    "\n",
    "    return new_id"
   ],
   "execution_count": 0,
   "outputs": []
  },
  {
   "cell_type": "code",
   "metadata": {
    "colab_type": "code",
    "id": "Fc50HUuITedS",
    "colab": {}
   },
   "source": [
    "def create_population(\n",
    "    conn : sqlite3.connect, \n",
    "    city : str, \n",
    "    population : int,\n",
    "    year : int) -> int:\n",
    "    \"\"\"Insert a population record for a city into the populations tbl.\n",
    "\n",
    "    Parameters\n",
    "    ----------\n",
    "    conn : sqlite3.connect\n",
    "        Connection object\n",
    "    city : str\n",
    "    population : int\n",
    "    year : int\n",
    "\n",
    "    Returns\n",
    "    -------\n",
    "    int\n",
    "        record id\n",
    "\n",
    "    \"\"\"\n",
    "    sql = f\"\"\"\n",
    "    INSERT INTO population (\n",
    "        city_id,\n",
    "        population,\n",
    "        year\n",
    "    )\n",
    "    VALUES(\n",
    "        ( SELECT id FROM cities WHERE city=\"{city}\" ),\n",
    "        {population},\n",
    "        {year}\n",
    "    );\n",
    "    \"\"\"\n",
    "    new_id = add_to_db(conn, sql)\n",
    "\n",
    "    return new_id"
   ],
   "execution_count": 0,
   "outputs": []
  },
  {
   "cell_type": "code",
   "metadata": {
    "id": "tye-E-b7cg49",
    "colab_type": "code",
    "colab": {}
   },
   "source": [
    "def create_museum(conn : sqlite3.connect, name : str, city : str) -> int:\n",
    "    \"\"\"Insert a museum df record into the museums tbl.\n",
    "\n",
    "    Parameters\n",
    "    ----------\n",
    "    conn : sqlite3.connect\n",
    "        Connection object\n",
    "    city : str\n",
    "\n",
    "    Returns\n",
    "    -------\n",
    "    int\n",
    "        record id\n",
    "\n",
    "    \"\"\"\n",
    "    sql = f\"\"\"\n",
    "    INSERT INTO museums (\n",
    "        name,\n",
    "        city_id\n",
    "    )\n",
    "    VALUES(\n",
    "        \"{name}\",\n",
    "        ( SELECT id FROM cities WHERE city=\"{city}\" )\n",
    "    );\n",
    "    \"\"\"\n",
    "    new_id = add_to_db(conn, sql)\n",
    "\n",
    "    return new_id"
   ],
   "execution_count": 0,
   "outputs": []
  },
  {
   "cell_type": "code",
   "metadata": {
    "colab_type": "code",
    "id": "edGd7URheflS",
    "colab": {},
    "pycharm": {
     "name": "#%%\n"
    }
   },
   "source": [
    "def create_visitor_record(\n",
    "    conn : sqlite3.connect, \n",
    "    museum : str, \n",
    "    year : int, \n",
    "    visitors : int) -> int:\n",
    "    \"\"\"Insert a record into the visitors table\n",
    "\n",
    "    Parameters\n",
    "    ----------\n",
    "    conn : sqlite3.connect\n",
    "        Connection object\n",
    "    museum : str, \n",
    "    year : int, \n",
    "    visitors : int\n",
    "\n",
    "    Returns\n",
    "    -------\n",
    "    int\n",
    "        record id\n",
    "\n",
    "    \"\"\"\n",
    "    sql = f\"\"\"\n",
    "    INSERT INTO visitors (\n",
    "        museum_id,\n",
    "        year,\n",
    "        visitors\n",
    "    )\n",
    "    VALUES(\n",
    "        ( SELECT id FROM museums WHERE name=\"{museum}\" ),\n",
    "        {year},\n",
    "        {visitors}\n",
    "    );\n",
    "    \"\"\"\n",
    "    new_id = add_to_db(conn, sql)\n",
    "\n",
    "    return new_id"
   ],
   "execution_count": 0,
   "outputs": []
  },
  {
   "cell_type": "markdown",
   "metadata": {
    "id": "PfB0zH5TVb7P",
    "colab_type": "text",
    "pycharm": {
     "name": "#%% md\n"
    }
   },
   "source": [
    "### Adding data\n",
    "Add records to database"
   ]
  },
  {
   "cell_type": "code",
   "metadata": {
    "id": "LOPmOqa7VkQy",
    "colab_type": "code",
    "outputId": "0644b679-dda9-4b66-81a8-4e76facf32f5",
    "colab": {
     "base_uri": "https://localhost:8080/",
     "height": 221
    }
   },
   "source": [
    "city_count = 0\n",
    "population_count = 0\n",
    "\n",
    "for idx, row in cities_df.iterrows():\n",
    "    \n",
    "    # Create city\n",
    "    city_id = create_city(\n",
    "        conn, \n",
    "        row[\"City\"],\n",
    "    )\n",
    "\n",
    "    if city_id > 0:\n",
    "        city_count += 1\n",
    "\n",
    "        # Create population\n",
    "        if isinstance(row[\"Population\"], float):\n",
    "            population_id = create_population(\n",
    "                conn,\n",
    "                row[\"City\"],\n",
    "                row[\"Population\"],\n",
    "                row[\"Year\"],\n",
    "            )\n",
    "\n",
    "            if population_id > 0:\n",
    "                population_count += 1\n",
    "            else:\n",
    "                logger.warn(f'Failed to add a record for {row[\"City\"]} to tbl: population')\n",
    "    else:\n",
    "        logger.warn(f'Failed to add {row[\"City\"]} to tbl: cities')\n",
    "\n",
    "logger.info(f\"Added {city_count} cities to tbl: cities, with \" +\n",
    "            f\"{population_count} population entries to tbl: population.\")"
   ],
   "execution_count": 30,
   "outputs": [
    {
     "output_type": "stream",
     "text": [
      "Failed to add a record for Beijing to tbl: population\n",
      "Failed to add a record for New York City to tbl: population\n",
      "Failed to add a record for Vatican City to tbl: population\n",
      "Failed to add a record for New York City to tbl: population\n",
      "Failed to add a record for Beijing to tbl: population\n",
      "Failed to add a record for Changsha to tbl: population\n",
      "Failed to add a record for Xi'an to tbl: population\n",
      "Failed to add a record for New York City to tbl: population\n",
      "Failed to add a record for Mexico City to tbl: population\n",
      "Failed to add a record for Mexico City to tbl: population\n",
      "Failed to add a record for Washington D.C. to tbl: population\n",
      "Added 62 cities to tbl: cities, with 51 population entries to tbl: population.\n"
     ],
     "name": "stdout"
    }
   ]
  },
  {
   "cell_type": "code",
   "metadata": {
    "colab_type": "code",
    "id": "06yrv5ExX_ij",
    "outputId": "a4448cf8-1630-420a-e394-688e3fbd707a",
    "colab": {
     "base_uri": "https://localhost:8080/",
     "height": 34
    }
   },
   "source": [
    "museum_count = 0\n",
    "\n",
    "for idx, row in museum_df.iterrows():\n",
    "    record_id = create_museum(\n",
    "        conn, \n",
    "        row[\"Museum\"],\n",
    "        row[\"City\"],\n",
    "    )\n",
    "\n",
    "    if record_id > 0:\n",
    "        museum_count += 1\n",
    "    else:\n",
    "        logger.warn(f'Failed to add {row[\"Museum\"]}, {row[\"City\"]}')\n",
    "\n",
    "logger.info(f\"Inserted {museum_count} records into tbl: museums\")"
   ],
   "execution_count": 31,
   "outputs": [
    {
     "output_type": "stream",
     "text": [
      "Inserted 62 records into tbl: museums\n"
     ],
     "name": "stdout"
    }
   ]
  },
  {
   "cell_type": "code",
   "metadata": {
    "colab_type": "code",
    "id": "hTwkMMsKYSVS",
    "outputId": "83c6afac-e100-4f9e-f23d-70f6aaf887c7",
    "colab": {
     "base_uri": "https://localhost:8080/",
     "height": 34
    },
    "pycharm": {
     "name": "#%%\n"
    }
   },
   "source": [
    "visitor_count = 0\n",
    "\n",
    "for idx, row in museum_df.iterrows():\n",
    "    if row['Visitors'] > 0:\n",
    "      record_id = create_visitor_record(\n",
    "          conn, \n",
    "          row[\"Museum\"],\n",
    "          row[\"Year\"],\n",
    "          row[\"Visitors\"],\n",
    "      )\n",
    "\n",
    "    if record_id > 0:\n",
    "        visitor_count += 1\n",
    "\n",
    "    else:\n",
    "        logger.warn(f'Failed to add visitor numbers for {row[\"Museum\"]} in {row[\"Year\"]}.')\n",
    "\n",
    "logger.info(f\"Inserted {visitor_count} records into table: visitors\")"
   ],
   "execution_count": 32,
   "outputs": [
    {
     "output_type": "stream",
     "text": [
      "Inserted 62 records into table: visitors\n"
     ],
     "name": "stdout"
    }
   ]
  },
  {
   "cell_type": "markdown",
   "metadata": {
    "id": "NBEFkSsVcBJV",
    "colab_type": "text",
    "pycharm": {
     "name": "#%% md\n"
    }
   },
   "source": [
    "# Query the database\n",
    "\n",
    "With data loaded into the database, we can start querying for data."
   ]
  },
  {
   "cell_type": "code",
   "metadata": {
    "id": "7xYlpaErcMZw",
    "colab_type": "code",
    "colab": {},
    "pycharm": {
     "name": "#%%\n"
    }
   },
   "source": [
    "year = 2018\n",
    "\n",
    "sql = f\"\"\"\n",
    "SELECT\n",
    "    m.name AS \"museum\",\n",
    "    c.city AS \"city\",\n",
    "    v.year AS \"year\",\n",
    "    p.population AS \"population\",\n",
    "    v.visitors AS \"visitors\"\n",
    "FROM\n",
    "    cities c\n",
    "INNER JOIN population p ON c.id = p.city_id\n",
    "INNER JOIN museums m ON c.id = m.city_id\n",
    "INNER JOIN visitors v ON v.museum_id = m.id \n",
    "WHERE   p.year = {year}\n",
    "AND     v.year = {year}\n",
    "ORDER BY\n",
    "        museum,\n",
    "        year\n",
    "        ASC\n",
    ";\n",
    "\"\"\"\n",
    "\n",
    "df_2018 = pd.read_sql_query(sql, conn)\n",
    "df_2018.drop_duplicates(inplace=True)"
   ],
   "execution_count": 0,
   "outputs": []
  },
  {
   "cell_type": "markdown",
   "metadata": {
    "id": "voOs27l_0F-a",
    "colab_type": "text",
    "pycharm": {
     "name": "#%% md\n"
    }
   },
   "source": [
    "# Visualize the raw data\n",
    "\n",
    "With the data loaded, it's often useful to quickly inspect the data for any obvious correlation"
   ]
  },
  {
   "cell_type": "code",
   "metadata": {
    "id": "nj1DsHRovdOf",
    "colab_type": "code",
    "colab": {}
   },
   "source": [
    "import matplotlib.pyplot as plt\n",
    "import seaborn as sns"
   ],
   "execution_count": 0,
   "outputs": []
  },
  {
   "cell_type": "code",
   "metadata": {
    "id": "pGW9wimwvir2",
    "colab_type": "code",
    "outputId": "82f0a4ed-ea3e-4d73-94aa-f0bb0af78471",
    "colab": {
     "base_uri": "https://localhost:8080/",
     "height": 904
    },
    "pycharm": {
     "name": "#%%\n"
    }
   },
   "source": [
    "sns.jointplot(\n",
    "    data=df_2018, \n",
    "    x='population', \n",
    "    y='visitors', \n",
    "    kind='kde',\n",
    ")\n",
    "raw_plot = sns.jointplot(\n",
    "    data=df_2018, \n",
    "    x='population', \n",
    "    y='visitors', \n",
    "    kind='reg',\n",
    ")\n",
    "\n",
    "if COLAB:\n",
    "    raw_plot.savefig(\n",
    "        os.path.join(\n",
    "            RESULTS_DIR,\n",
    "            f\"raw_plot_{today}.png\"\n",
    "        )\n",
    "    )\n",
    "else:\n",
    "    raw_plot.savefig((f\"raw_plot_{today}.png\")\n",
    ")"
   ],
   "execution_count": 35,
   "outputs": [
    {
     "output_type": "execute_result",
     "data": {
      "text/plain": [
       "<seaborn.axisgrid.JointGrid at 0x7fa56f4fcda0>"
      ]
     },
     "metadata": {
      "tags": []
     },
     "execution_count": 35
    },
    {
     "output_type": "display_data",
     "data": {
      "image/png": "[encoded data removed]",
      "text/plain": [
       "<Figure size 432x432 with 3 Axes>"
      ]
     },
     "metadata": {
      "tags": []
     }
    },
    {
     "output_type": "display_data",
     "data": {
      "image/png": "[encoded data removed]",
      "text/plain": [
       "<Figure size 432x432 with 3 Axes>"
      ]
     },
     "metadata": {
      "tags": []
     }
    }
   ]
  },
  {
   "cell_type": "markdown",
   "metadata": {
    "id": "fxx-31kUuaAR",
    "colab_type": "text",
    "pycharm": {
     "name": "#%% md\n"
    }
   },
   "source": [
    "# Outlier removal\n",
    "\n",
    "Looks like it's going to be tricky to get any correlation with some of those outliers (notably Vatican City, Aushwitz).\n",
    "\n",
    "Let's compute stats for both the raw data set and a outlier-removed dataset."
   ]
  },
  {
   "cell_type": "code",
   "metadata": {
    "id": "-KzHyvXTiH-Q",
    "colab_type": "code",
    "colab": {}
   },
   "source": [
    "def remove_outliers(\n",
    "    df : pd.DataFrame,\n",
    "    col : str,\n",
    "    threshold : float = 1.5\n",
    "    ) -> pd.DataFrame:\n",
    "    \"\"\"Remove outliers from a dataframe column based on range outside the IQR.\n",
    "\n",
    "    Where an outlier is defined as ``threshold`` x IQR outside of the IQR.\n",
    "\n",
    "    Parameters\n",
    "    ----------\n",
    "    df : pd.DataFrame,\n",
    "    col : str,\n",
    "    threshold : float\n",
    "        optional: default = 1.5\n",
    "\n",
    "    Returns\n",
    "    -------\n",
    "    pd.DataFrame\n",
    "\n",
    "    \"\"\"\n",
    "    stats_summary = df[col].describe()\n",
    "\n",
    "    # Interquartile range is definted as 75th - 25th percentile\n",
    "    iqr = stats_summary[\"75%\"] - stats_summary[\"25%\"]\n",
    "\n",
    "    # Calculate the threshold values of acceptable range\n",
    "    min_value = stats_summary[\"25%\"] - (threshold * iqr)\n",
    "    max_value = stats_summary[\"75%\"] + (threshold * iqr)\n",
    "\n",
    "    # Filter the dataframe with outliers removed\n",
    "    df = df[\n",
    "        (df[col] > min_value) & \n",
    "        (df[col] < max_value)\n",
    "    ]\n",
    "\n",
    "    return df"
   ],
   "execution_count": 0,
   "outputs": []
  },
  {
   "cell_type": "code",
   "metadata": {
    "id": "bCn7cwF1FAhh",
    "colab_type": "code",
    "outputId": "36c6fc5c-1864-4265-da35-140b5c3a7e98",
    "colab": {
     "base_uri": "https://localhost:8080/",
     "height": 34
    }
   },
   "source": [
    "df_2018.shape"
   ],
   "execution_count": 37,
   "outputs": [
    {
     "output_type": "execute_result",
     "data": {
      "text/plain": [
       "(51, 5)"
      ]
     },
     "metadata": {
      "tags": []
     },
     "execution_count": 37
    }
   ]
  },
  {
   "cell_type": "code",
   "metadata": {
    "id": "Z19mJyWCAktU",
    "colab_type": "code",
    "colab": {}
   },
   "source": [
    "wo_outliers = df_2018.copy()\n",
    "\n",
    "wo_outliers = remove_outliers(\n",
    "    wo_outliers,\n",
    "    \"population\",\n",
    "    1.5,\n",
    ")\n",
    "wo_outliers = remove_outliers(\n",
    "    wo_outliers,\n",
    "    \"visitors\",\n",
    "    1.5,\n",
    ")"
   ],
   "execution_count": 0,
   "outputs": []
  },
  {
   "cell_type": "code",
   "metadata": {
    "id": "1wk9YI9_G8vf",
    "colab_type": "code",
    "colab": {
     "base_uri": "https://localhost:8080/",
     "height": 1000
    },
    "outputId": "553e984b-0fa8-4e61-ee8e-87246c4035ba"
   },
   "source": [
    "wo_outliers"
   ],
   "execution_count": 39,
   "outputs": [
    {
     "output_type": "execute_result",
     "data": {
      "text/html": [
       "<div>\n",
       "<style scoped>\n",
       "    .dataframe tbody tr th:only-of-type {\n",
       "        vertical-align: middle;\n",
       "    }\n",
       "\n",
       "    .dataframe tbody tr th {\n",
       "        vertical-align: top;\n",
       "    }\n",
       "\n",
       "    .dataframe thead th {\n",
       "        text-align: right;\n",
       "    }\n",
       "</style>\n",
       "<table border=\"1\" class=\"dataframe\">\n",
       "  <thead>\n",
       "    <tr style=\"text-align: right;\">\n",
       "      <th></th>\n",
       "      <th>museum</th>\n",
       "      <th>city</th>\n",
       "      <th>year</th>\n",
       "      <th>population</th>\n",
       "      <th>visitors</th>\n",
       "    </tr>\n",
       "  </thead>\n",
       "  <tbody>\n",
       "    <tr>\n",
       "      <th>0</th>\n",
       "      <td>Auschwitz-Birkenau State Museum</td>\n",
       "      <td>Oswiecim</td>\n",
       "      <td>2018</td>\n",
       "      <td>41143</td>\n",
       "      <td>2100000</td>\n",
       "    </tr>\n",
       "    <tr>\n",
       "      <th>1</th>\n",
       "      <td>British Museum</td>\n",
       "      <td>London</td>\n",
       "      <td>2018</td>\n",
       "      <td>7421228</td>\n",
       "      <td>5829000</td>\n",
       "    </tr>\n",
       "    <tr>\n",
       "      <th>9</th>\n",
       "      <td>California Science Center</td>\n",
       "      <td>Los Angeles</td>\n",
       "      <td>2018</td>\n",
       "      <td>3877129</td>\n",
       "      <td>2520000</td>\n",
       "    </tr>\n",
       "    <tr>\n",
       "      <th>10</th>\n",
       "      <td>Centre Pompidou</td>\n",
       "      <td>Paris</td>\n",
       "      <td>2018</td>\n",
       "      <td>2110694</td>\n",
       "      <td>3551544</td>\n",
       "    </tr>\n",
       "    <tr>\n",
       "      <th>14</th>\n",
       "      <td>Chengdu Museum [zh]</td>\n",
       "      <td>Chengdu</td>\n",
       "      <td>2018</td>\n",
       "      <td>3950437</td>\n",
       "      <td>2780000</td>\n",
       "    </tr>\n",
       "    <tr>\n",
       "      <th>15</th>\n",
       "      <td>China Art Museum</td>\n",
       "      <td>Shanghai</td>\n",
       "      <td>2018</td>\n",
       "      <td>14608512</td>\n",
       "      <td>2550000</td>\n",
       "    </tr>\n",
       "    <tr>\n",
       "      <th>19</th>\n",
       "      <td>China Art Museum</td>\n",
       "      <td>Shanghai</td>\n",
       "      <td>2018</td>\n",
       "      <td>14608512</td>\n",
       "      <td>2300000</td>\n",
       "    </tr>\n",
       "    <tr>\n",
       "      <th>23</th>\n",
       "      <td>Chongqing Museum of Natural History</td>\n",
       "      <td>Chongqing</td>\n",
       "      <td>2018</td>\n",
       "      <td>3967028</td>\n",
       "      <td>2830000</td>\n",
       "    </tr>\n",
       "    <tr>\n",
       "      <th>25</th>\n",
       "      <td>CitÃ© des Sciences et de l'Industrie</td>\n",
       "      <td>Paris</td>\n",
       "      <td>2018</td>\n",
       "      <td>2110694</td>\n",
       "      <td>2231000</td>\n",
       "    </tr>\n",
       "    <tr>\n",
       "      <th>29</th>\n",
       "      <td>Galleria degli Uffizi</td>\n",
       "      <td>Florence</td>\n",
       "      <td>2018</td>\n",
       "      <td>347194</td>\n",
       "      <td>2230914</td>\n",
       "    </tr>\n",
       "    <tr>\n",
       "      <th>30</th>\n",
       "      <td>Gansu Provincial Museum</td>\n",
       "      <td>Lanzhou</td>\n",
       "      <td>2018</td>\n",
       "      <td>1417742</td>\n",
       "      <td>3500000</td>\n",
       "    </tr>\n",
       "    <tr>\n",
       "      <th>31</th>\n",
       "      <td>Houston Museum of Natural Science</td>\n",
       "      <td>Houston</td>\n",
       "      <td>2018</td>\n",
       "      <td>2027712</td>\n",
       "      <td>2313000</td>\n",
       "    </tr>\n",
       "    <tr>\n",
       "      <th>32</th>\n",
       "      <td>London Science Museum</td>\n",
       "      <td>London</td>\n",
       "      <td>2018</td>\n",
       "      <td>7421228</td>\n",
       "      <td>3286000</td>\n",
       "    </tr>\n",
       "    <tr>\n",
       "      <th>44</th>\n",
       "      <td>Mevlana Museum</td>\n",
       "      <td>Konya</td>\n",
       "      <td>2018</td>\n",
       "      <td>876004</td>\n",
       "      <td>2817386</td>\n",
       "    </tr>\n",
       "    <tr>\n",
       "      <th>45</th>\n",
       "      <td>Moscow Kremlin Museums</td>\n",
       "      <td>Moscow</td>\n",
       "      <td>2018</td>\n",
       "      <td>10381288</td>\n",
       "      <td>2867295</td>\n",
       "    </tr>\n",
       "    <tr>\n",
       "      <th>47</th>\n",
       "      <td>Museo del Prado</td>\n",
       "      <td>Madrid</td>\n",
       "      <td>2018</td>\n",
       "      <td>3102644</td>\n",
       "      <td>2893000</td>\n",
       "    </tr>\n",
       "    <tr>\n",
       "      <th>49</th>\n",
       "      <td>MusÃ©e d'Orsay</td>\n",
       "      <td>Paris</td>\n",
       "      <td>2018</td>\n",
       "      <td>2110694</td>\n",
       "      <td>3175000</td>\n",
       "    </tr>\n",
       "    <tr>\n",
       "      <th>53</th>\n",
       "      <td>NGV International</td>\n",
       "      <td>Melbourne</td>\n",
       "      <td>2018</td>\n",
       "      <td>3730212</td>\n",
       "      <td>2565474</td>\n",
       "    </tr>\n",
       "    <tr>\n",
       "      <th>54</th>\n",
       "      <td>Nanjing Museum</td>\n",
       "      <td>Nanjing</td>\n",
       "      <td>2018</td>\n",
       "      <td>3087010</td>\n",
       "      <td>3670000</td>\n",
       "    </tr>\n",
       "    <tr>\n",
       "      <th>55</th>\n",
       "      <td>National Air and Space Museum</td>\n",
       "      <td>Washington</td>\n",
       "      <td>2018</td>\n",
       "      <td>552433</td>\n",
       "      <td>6200000</td>\n",
       "    </tr>\n",
       "    <tr>\n",
       "      <th>64</th>\n",
       "      <td>National Folk Museum of Korea</td>\n",
       "      <td>Seoul</td>\n",
       "      <td>2018</td>\n",
       "      <td>10323448</td>\n",
       "      <td>2054719</td>\n",
       "    </tr>\n",
       "    <tr>\n",
       "      <th>66</th>\n",
       "      <td>National Gallery</td>\n",
       "      <td>London</td>\n",
       "      <td>2018</td>\n",
       "      <td>7421228</td>\n",
       "      <td>5735831</td>\n",
       "    </tr>\n",
       "    <tr>\n",
       "      <th>74</th>\n",
       "      <td>National Gallery of Art</td>\n",
       "      <td>Washington</td>\n",
       "      <td>2018</td>\n",
       "      <td>552433</td>\n",
       "      <td>4404212</td>\n",
       "    </tr>\n",
       "    <tr>\n",
       "      <th>79</th>\n",
       "      <td>National Museum of African American History an...</td>\n",
       "      <td>Washington</td>\n",
       "      <td>2018</td>\n",
       "      <td>552433</td>\n",
       "      <td>2400000</td>\n",
       "    </tr>\n",
       "    <tr>\n",
       "      <th>84</th>\n",
       "      <td>National Museum of American History</td>\n",
       "      <td>Washington</td>\n",
       "      <td>2018</td>\n",
       "      <td>552433</td>\n",
       "      <td>3800000</td>\n",
       "    </tr>\n",
       "    <tr>\n",
       "      <th>89</th>\n",
       "      <td>National Museum of Korea</td>\n",
       "      <td>Seoul</td>\n",
       "      <td>2018</td>\n",
       "      <td>10323448</td>\n",
       "      <td>3300000</td>\n",
       "    </tr>\n",
       "    <tr>\n",
       "      <th>91</th>\n",
       "      <td>National Museum of Natural History</td>\n",
       "      <td>Washington</td>\n",
       "      <td>2018</td>\n",
       "      <td>552433</td>\n",
       "      <td>4800000</td>\n",
       "    </tr>\n",
       "    <tr>\n",
       "      <th>96</th>\n",
       "      <td>National Museum of Natural Science</td>\n",
       "      <td>Taichung</td>\n",
       "      <td>2018</td>\n",
       "      <td>1083582</td>\n",
       "      <td>2963857</td>\n",
       "    </tr>\n",
       "    <tr>\n",
       "      <th>101</th>\n",
       "      <td>National Museum of Scotland</td>\n",
       "      <td>Edinburgh</td>\n",
       "      <td>2018</td>\n",
       "      <td>435794</td>\n",
       "      <td>2227773</td>\n",
       "    </tr>\n",
       "    <tr>\n",
       "      <th>102</th>\n",
       "      <td>National Palace Museum</td>\n",
       "      <td>Taipei</td>\n",
       "      <td>2018</td>\n",
       "      <td>2514794</td>\n",
       "      <td>3860644</td>\n",
       "    </tr>\n",
       "    <tr>\n",
       "      <th>103</th>\n",
       "      <td>Natural History Museum</td>\n",
       "      <td>London</td>\n",
       "      <td>2018</td>\n",
       "      <td>7421228</td>\n",
       "      <td>5226000</td>\n",
       "    </tr>\n",
       "    <tr>\n",
       "      <th>111</th>\n",
       "      <td>Reina SofÃ­a</td>\n",
       "      <td>Madrid</td>\n",
       "      <td>2018</td>\n",
       "      <td>3102644</td>\n",
       "      <td>3898309</td>\n",
       "    </tr>\n",
       "    <tr>\n",
       "      <th>113</th>\n",
       "      <td>Rijksmuseum</td>\n",
       "      <td>Amsterdam</td>\n",
       "      <td>2018</td>\n",
       "      <td>745811</td>\n",
       "      <td>2300000</td>\n",
       "    </tr>\n",
       "    <tr>\n",
       "      <th>115</th>\n",
       "      <td>Royal Museums Greenwich</td>\n",
       "      <td>London</td>\n",
       "      <td>2018</td>\n",
       "      <td>7421228</td>\n",
       "      <td>2549833</td>\n",
       "    </tr>\n",
       "    <tr>\n",
       "      <th>123</th>\n",
       "      <td>Russian Museum</td>\n",
       "      <td>Saint Petersburg</td>\n",
       "      <td>2018</td>\n",
       "      <td>4039751</td>\n",
       "      <td>2192200</td>\n",
       "    </tr>\n",
       "    <tr>\n",
       "      <th>125</th>\n",
       "      <td>Shanghai Museum</td>\n",
       "      <td>Shanghai</td>\n",
       "      <td>2018</td>\n",
       "      <td>14608512</td>\n",
       "      <td>2111730</td>\n",
       "    </tr>\n",
       "    <tr>\n",
       "      <th>129</th>\n",
       "      <td>Shanghai Science and Technology Museum</td>\n",
       "      <td>Shanghai</td>\n",
       "      <td>2018</td>\n",
       "      <td>14608512</td>\n",
       "      <td>3540000</td>\n",
       "    </tr>\n",
       "    <tr>\n",
       "      <th>133</th>\n",
       "      <td>Somerset House</td>\n",
       "      <td>London</td>\n",
       "      <td>2018</td>\n",
       "      <td>7421228</td>\n",
       "      <td>3143626</td>\n",
       "    </tr>\n",
       "    <tr>\n",
       "      <th>141</th>\n",
       "      <td>State Hermitage Museum</td>\n",
       "      <td>Saint Petersburg</td>\n",
       "      <td>2018</td>\n",
       "      <td>4039751</td>\n",
       "      <td>4294000</td>\n",
       "    </tr>\n",
       "    <tr>\n",
       "      <th>143</th>\n",
       "      <td>Suzhou Museum</td>\n",
       "      <td>Suzhou</td>\n",
       "      <td>2018</td>\n",
       "      <td>1343091</td>\n",
       "      <td>2340000</td>\n",
       "    </tr>\n",
       "    <tr>\n",
       "      <th>144</th>\n",
       "      <td>Tate Modern</td>\n",
       "      <td>London</td>\n",
       "      <td>2018</td>\n",
       "      <td>7421228</td>\n",
       "      <td>5868562</td>\n",
       "    </tr>\n",
       "    <tr>\n",
       "      <th>152</th>\n",
       "      <td>Three Gorges Museum</td>\n",
       "      <td>Chongqing</td>\n",
       "      <td>2018</td>\n",
       "      <td>3967028</td>\n",
       "      <td>2240000</td>\n",
       "    </tr>\n",
       "    <tr>\n",
       "      <th>162</th>\n",
       "      <td>Tretyakov Gallery</td>\n",
       "      <td>Moscow</td>\n",
       "      <td>2018</td>\n",
       "      <td>10381288</td>\n",
       "      <td>2148538</td>\n",
       "    </tr>\n",
       "    <tr>\n",
       "      <th>164</th>\n",
       "      <td>Van Gogh Museum</td>\n",
       "      <td>Amsterdam</td>\n",
       "      <td>2018</td>\n",
       "      <td>745811</td>\n",
       "      <td>2161160</td>\n",
       "    </tr>\n",
       "    <tr>\n",
       "      <th>166</th>\n",
       "      <td>Victoria and Albert Museum</td>\n",
       "      <td>London</td>\n",
       "      <td>2018</td>\n",
       "      <td>7421228</td>\n",
       "      <td>3967566</td>\n",
       "    </tr>\n",
       "    <tr>\n",
       "      <th>174</th>\n",
       "      <td>Zhejiang Museum</td>\n",
       "      <td>Hangzhou</td>\n",
       "      <td>2018</td>\n",
       "      <td>1878129</td>\n",
       "      <td>4200000</td>\n",
       "    </tr>\n",
       "  </tbody>\n",
       "</table>\n",
       "</div>"
      ],
      "text/plain": [
       "                                                museum  ... visitors\n",
       "0                      Auschwitz-Birkenau State Museum  ...  2100000\n",
       "1                                       British Museum  ...  5829000\n",
       "9                            California Science Center  ...  2520000\n",
       "10                                     Centre Pompidou  ...  3551544\n",
       "14                                 Chengdu Museum [zh]  ...  2780000\n",
       "15                                    China Art Museum  ...  2550000\n",
       "19                                    China Art Museum  ...  2300000\n",
       "23                 Chongqing Museum of Natural History  ...  2830000\n",
       "25                CitÃ© des Sciences et de l'Industrie  ...  2231000\n",
       "29                               Galleria degli Uffizi  ...  2230914\n",
       "30                             Gansu Provincial Museum  ...  3500000\n",
       "31                   Houston Museum of Natural Science  ...  2313000\n",
       "32                               London Science Museum  ...  3286000\n",
       "44                                      Mevlana Museum  ...  2817386\n",
       "45                              Moscow Kremlin Museums  ...  2867295\n",
       "47                                     Museo del Prado  ...  2893000\n",
       "49                                      MusÃ©e d'Orsay  ...  3175000\n",
       "53                                   NGV International  ...  2565474\n",
       "54                                      Nanjing Museum  ...  3670000\n",
       "55                       National Air and Space Museum  ...  6200000\n",
       "64                       National Folk Museum of Korea  ...  2054719\n",
       "66                                    National Gallery  ...  5735831\n",
       "74                             National Gallery of Art  ...  4404212\n",
       "79   National Museum of African American History an...  ...  2400000\n",
       "84                 National Museum of American History  ...  3800000\n",
       "89                            National Museum of Korea  ...  3300000\n",
       "91                  National Museum of Natural History  ...  4800000\n",
       "96                  National Museum of Natural Science  ...  2963857\n",
       "101                        National Museum of Scotland  ...  2227773\n",
       "102                             National Palace Museum  ...  3860644\n",
       "103                             Natural History Museum  ...  5226000\n",
       "111                                       Reina SofÃ­a  ...  3898309\n",
       "113                                        Rijksmuseum  ...  2300000\n",
       "115                            Royal Museums Greenwich  ...  2549833\n",
       "123                                     Russian Museum  ...  2192200\n",
       "125                                    Shanghai Museum  ...  2111730\n",
       "129             Shanghai Science and Technology Museum  ...  3540000\n",
       "133                                     Somerset House  ...  3143626\n",
       "141                             State Hermitage Museum  ...  4294000\n",
       "143                                      Suzhou Museum  ...  2340000\n",
       "144                                        Tate Modern  ...  5868562\n",
       "152                                Three Gorges Museum  ...  2240000\n",
       "162                                  Tretyakov Gallery  ...  2148538\n",
       "164                                    Van Gogh Museum  ...  2161160\n",
       "166                         Victoria and Albert Museum  ...  3967566\n",
       "174                                    Zhejiang Museum  ...  4200000\n",
       "\n",
       "[46 rows x 5 columns]"
      ]
     },
     "metadata": {
      "tags": []
     },
     "execution_count": 39
    }
   ]
  },
  {
   "cell_type": "code",
   "metadata": {
    "id": "sBwpfAW7A6Oj",
    "colab_type": "code",
    "outputId": "f872d654-a3ed-4272-89ab-fe72806f2c91",
    "colab": {
     "base_uri": "https://localhost:8080/",
     "height": 469
    },
    "pycharm": {
     "name": "#%%\n"
    }
   },
   "source": [
    "sns.jointplot(\n",
    "    data=wo_outliers, \n",
    "    x='population', \n",
    "    y='visitors', \n",
    "    kind='reg',\n",
    ")"
   ],
   "execution_count": 40,
   "outputs": [
    {
     "output_type": "execute_result",
     "data": {
      "text/plain": [
       "<seaborn.axisgrid.JointGrid at 0x7fa56bf37c88>"
      ]
     },
     "metadata": {
      "tags": []
     },
     "execution_count": 40
    },
    {
     "output_type": "display_data",
     "data": {
      "image/png": "[encoded data removed]",
      "text/plain": [
       "<Figure size 432x432 with 3 Axes>"
      ]
     },
     "metadata": {
      "tags": []
     }
    }
   ]
  },
  {
   "cell_type": "markdown",
   "metadata": {
    "id": "nz2_06SrPvQA",
    "colab_type": "text",
    "pycharm": {
     "name": "#%% md\n"
    }
   },
   "source": [
    "# Outlier comparison\n",
    "\n",
    "Visualize the difference that the removal of the outliers makes."
   ]
  },
  {
   "cell_type": "code",
   "metadata": {
    "id": "97oWF0ekJ6Xe",
    "colab_type": "code",
    "outputId": "d6c7f3e0-29bb-43b8-d4d4-c0c4c4c9ffe0",
    "colab": {
     "base_uri": "https://localhost:8080/",
     "height": 312
    },
    "pycharm": {
     "name": "#%%\n"
    }
   },
   "source": [
    "fig, ax = plt.subplots(1,2)\n",
    "\n",
    "ax[0].set(\n",
    "    title=\"All data\", \n",
    "    xlim=(0, 3.5), \n",
    "    ylim=(0.2, 1.25),\n",
    "    xlabel=\"Population / millions\",\n",
    ")\n",
    "ax[1].set(\n",
    "    title=\"Outliers removed\", \n",
    "    xlim=(0, 3.5), \n",
    "    ylim=(0.2, 1.25),\n",
    "    xlabel=\"Population / millions\",\n",
    ")\n",
    "\n",
    "sns.scatterplot(\n",
    "    x=df_2018['population'] / 1e7, \n",
    "    y=df_2018['visitors'] / 1e7, \n",
    "    ax=ax[0],\n",
    ")\n",
    "sns.scatterplot(\n",
    "    data=wo_outliers, \n",
    "    x=wo_outliers['population'] / 1e7, \n",
    "    y=wo_outliers['visitors'] / 1e7, \n",
    "    ax=ax[1],\n",
    ")"
   ],
   "execution_count": 41,
   "outputs": [
    {
     "output_type": "execute_result",
     "data": {
      "text/plain": [
       "<matplotlib.axes._subplots.AxesSubplot at 0x7fa56ef4e240>"
      ]
     },
     "metadata": {
      "tags": []
     },
     "execution_count": 41
    },
    {
     "output_type": "display_data",
     "data": {
      "image/png": "[encoded data removed]",
      "text/plain": [
       "<Figure size 432x288 with 2 Axes>"
      ]
     },
     "metadata": {
      "tags": []
     }
    }
   ]
  },
  {
   "cell_type": "markdown",
   "metadata": {
    "id": "FmTVUdiAJoql",
    "colab_type": "text",
    "pycharm": {
     "name": "#%% md\n"
    }
   },
   "source": [
    "# Linear regression\n",
    "\n",
    "Start basic ML implementation on both datasets.\n",
    "\n",
    "First stop, import `sklearn`"
   ]
  },
  {
   "cell_type": "code",
   "metadata": {
    "id": "bo3ZjecMP7K_",
    "colab_type": "code",
    "colab": {}
   },
   "source": [
    "from sklearn.model_selection import train_test_split \n",
    "from sklearn.linear_model import LinearRegression\n",
    "from sklearn import metrics"
   ],
   "execution_count": 0,
   "outputs": []
  },
  {
   "cell_type": "markdown",
   "metadata": {
    "id": "8oMcPGHrZJh9",
    "colab_type": "text",
    "pycharm": {
     "name": "#%% md\n"
    }
   },
   "source": [
    "## All data"
   ]
  },
  {
   "cell_type": "code",
   "metadata": {
    "id": "EKa6_ParQIAZ",
    "colab_type": "code",
    "outputId": "56ea48bb-bb86-4a18-84e1-0baf386e7a56",
    "colab": {
     "base_uri": "https://localhost:8080/",
     "height": 34
    }
   },
   "source": [
    "# Setup attributes and variables\n",
    "X = df_2018['population'].values.reshape(-1,1)\n",
    "y = df_2018['visitors'].values.reshape(-1,1)\n",
    "\n",
    "# Split data 80/20\n",
    "X_train, X_test, y_train, y_test = train_test_split(\n",
    "    X, y, test_size=0.2, random_state=0\n",
    ")\n",
    "\n",
    "# Train the model\n",
    "lm_all = LinearRegression()\n",
    "\n",
    "model_all = lm_all.fit(\n",
    "    X_train,\n",
    "    y_train,\n",
    ")\n",
    "\n",
    "logger.info(f\"Training on all data returned: y = {lm_all.coef_} x + {lm_all.intercept_}\")\n",
    "\n",
    "# Test on held-back data\n",
    "y_pred = lm_all.predict(X_test)\n",
    "\n",
    "model_accuracy_df = pd.DataFrame({\n",
    "    \"Actual\": y_test.flatten(),\n",
    "    \"Predicted\": y_pred.flatten()\n",
    "})"
   ],
   "execution_count": 43,
   "outputs": [
    {
     "output_type": "stream",
     "text": [
      "Training on all data returned: y = [[-0.0309969]] x + [3566323.89710532]\n"
     ],
     "name": "stdout"
    }
   ]
  },
  {
   "cell_type": "code",
   "metadata": {
    "id": "EkiVt0vWjvBr",
    "colab_type": "code",
    "outputId": "51f34807-e942-4d2d-d67b-0745fbb1efd7",
    "colab": {
     "base_uri": "https://localhost:8080/",
     "height": 34
    }
   },
   "source": [
    "X_train.shape"
   ],
   "execution_count": 44,
   "outputs": [
    {
     "output_type": "execute_result",
     "data": {
      "text/plain": [
       "(40, 1)"
      ]
     },
     "metadata": {
      "tags": []
     },
     "execution_count": 44
    }
   ]
  },
  {
   "cell_type": "code",
   "metadata": {
    "id": "6UMk4IK-V60Y",
    "colab_type": "code",
    "outputId": "2cd19f9d-3b93-4202-8669-12ba6b62afa1",
    "colab": {
     "base_uri": "https://localhost:8080/",
     "height": 68
    }
   },
   "source": [
    "logger.info('Mean Absolute Error:', round(metrics.mean_absolute_error(y_test, y_pred)))\n",
    "logger.info('Mean Squared Error:', round(metrics.mean_squared_error(y_test, y_pred)) )\n",
    "logger.info('Root Mean Squared Error:', round(np.sqrt(metrics.mean_squared_error(y_test, y_pred))))"
   ],
   "execution_count": 45,
   "outputs": [
    {
     "output_type": "stream",
     "text": [
      "Mean Absolute Error: 774926.0\n",
      "Mean Squared Error: 894150117045.0\n",
      "Root Mean Squared Error: 945595.0\n"
     ],
     "name": "stdout"
    }
   ]
  },
  {
   "cell_type": "code",
   "metadata": {
    "id": "RUKqZztHWUZd",
    "colab_type": "code",
    "outputId": "402cc49c-3674-4e66-ff77-73c50ded897a",
    "colab": {
     "base_uri": "https://localhost:8080/",
     "height": 34
    },
    "pycharm": {
     "name": "#%%\n"
    }
   },
   "source": [
    "RMSE = np.sqrt(metrics.mean_squared_error(y_test, y_pred))\n",
    "\n",
    "stats_summary = df_2018[\"visitors\"].describe()\n",
    "mean = stats_summary[\"mean\"]\n",
    "mean_10_percent = mean * 0.1\n",
    "\n",
    "if (RMSE < (mean - mean_10_percent)) or \\\n",
    "    (RMSE > (mean + mean_10_percent)):\n",
    "    logger.warn(\"Model is bad! Proceed with caution.\")"
   ],
   "execution_count": 46,
   "outputs": [
    {
     "output_type": "stream",
     "text": [
      "Model is bad! Proceed with caution.\n"
     ],
     "name": "stdout"
    }
   ]
  },
  {
   "cell_type": "code",
   "metadata": {
    "id": "Ci2Fix36Vaza",
    "colab_type": "code",
    "outputId": "94ee7da0-9771-42f4-fb1c-cbbc668948c1",
    "colab": {
     "base_uri": "https://localhost:8080/",
     "height": 295
    }
   },
   "source": [
    "plt.scatter(X_train / 1e6, y_train / 1e6,  color='gray')\n",
    "plt.scatter(X_test / 1e6, y_test / 1e6,  color='blue')\n",
    "plt.plot(X_test / 1e6, y_pred / 1e6, color='red', linewidth=2)\n",
    "plt.xlabel(\"Population / millions\")\n",
    "plt.ylabel(\"Visitors / millions\")\n",
    "plt.legend(['Prediction', 'Training', 'Test'])\n",
    "plt.title(\"All data / linear regression\")\n",
    "plt.savefig(f\"all_data_linear_{today}.png\")"
   ],
   "execution_count": 47,
   "outputs": [
    {
     "output_type": "display_data",
     "data": {
      "image/png": "[encoded data removed]",
      "text/plain": [
       "<Figure size 432x288 with 1 Axes>"
      ]
     },
     "metadata": {
      "tags": []
     }
    }
   ]
  },
  {
   "cell_type": "code",
   "metadata": {
    "id": "AfgKkuA-7kns",
    "colab_type": "code",
    "colab": {}
   },
   "source": [
    "if COLAB:\n",
    "    plt.savefig(\n",
    "        os.path.join(\n",
    "            RESULTS_DIR,\n",
    "            f\"linreg_all_data_{today}.png\"\n",
    "        )\n",
    "    )\n",
    "else:\n",
    "    plt.savefig((f\"linreg_all_data_{today}.png\")\n",
    ")"
   ],
   "execution_count": 0,
   "outputs": []
  },
  {
   "cell_type": "markdown",
   "metadata": {
    "id": "eqchR64gXhW-",
    "colab_type": "text",
    "pycharm": {
     "name": "#%% md\n"
    }
   },
   "source": [
    "Repeat linear regression without outliers"
   ]
  },
  {
   "cell_type": "markdown",
   "metadata": {
    "id": "u5H1xYrcZNeI",
    "colab_type": "text",
    "pycharm": {
     "name": "#%% md\n"
    }
   },
   "source": [
    "## Outliers removed"
   ]
  },
  {
   "cell_type": "code",
   "execution_count": null,
   "outputs": [],
   "source": [
    "# Setup attributes and variables\n",
    "X = wo_outliers['population'].values.reshape(-1,1)\n",
    "y = wo_outliers['visitors'].values.reshape(-1,1)\n",
    "\n",
    "# Split data 80/20\n",
    "X_train, X_test, y_train, y_test = train_test_split(\n",
    "    X, y, test_size=0.2, random_state=0\n",
    ")\n",
    "\n",
    "# Train the model\n",
    "lm_filtered = LinearRegression()\n",
    "\n",
    "model_all = lm_filtered.fit(\n",
    "    X_train,\n",
    "    y_train,\n",
    ")\n",
    "\n",
    "logger.info(f\"Training on all data returned: y = {lm_filtered.coef_} x + {lm_filtered.intercept_}\")\n",
    "\n",
    "# Test on held-back data\n",
    "y_pred = lm_filtered.predict(X_test)\n",
    "\n",
    "model_accuracy_df = pd.DataFrame({\n",
    "    \"Actual\": y_test.flatten(),\n",
    "    \"Predicted\": y_pred.flatten()\n",
    "})"
   ],
   "metadata": {
    "collapsed": false,
    "pycharm": {
     "name": "#%%\n"
    }
   }
  },
  {
   "cell_type": "code",
   "execution_count": null,
   "outputs": [],
   "source": [
    "logger.info('Mean Absolute Error:', round(metrics.mean_absolute_error(y_test, y_pred)))\n",
    "logger.info('Mean Squared Error:', round(metrics.mean_squared_error(y_test, y_pred)) )\n",
    "logger.info('Root Mean Squared Error:', round(np.sqrt(metrics.mean_squared_error(y_test, y_pred))))"
   ],
   "metadata": {
    "collapsed": false,
    "pycharm": {
     "name": "#%%\n"
    }
   }
  },
  {
   "cell_type": "code",
   "execution_count": null,
   "outputs": [],
   "source": [
    "RMSE = np.sqrt(metrics.mean_squared_error(y_test, y_pred))\n",
    "\n",
    "stats_summary = df_2018[\"visitors\"].describe()\n",
    "mean = stats_summary[\"mean\"]\n",
    "mean_10_percent = mean * 0.1\n",
    "\n",
    "if (RMSE < (mean - mean_10_percent)) or \\\n",
    "    (RMSE > (mean + mean_10_percent)):\n",
    "    logger.warn(\"Model is bad! Proceed with caution.\")"
   ],
   "metadata": {
    "collapsed": false,
    "pycharm": {
     "name": "#%%\n"
    }
   }
  },
  {
   "cell_type": "code",
   "execution_count": null,
   "outputs": [],
   "source": [
    "plt.scatter(X_train / 1e6, y_train / 1e6,  color='gray')\n",
    "plt.scatter(X_test / 1e6, y_test / 1e6,  color='blue')\n",
    "plt.plot(X_test / 1e6, y_pred / 1e6, color='red', linewidth=2)\n",
    "plt.xlabel(\"Population / millions\")\n",
    "plt.ylabel(\"Visitors / millions\")\n",
    "plt.legend(['Prediction', 'Training', 'Test'])\n",
    "plt.title(\"Outliers removed / linear regression\")\n",
    "plt.savefig(f\"wo_outliers_linear_{today}.png\")"
   ],
   "metadata": {
    "collapsed": false,
    "pycharm": {
     "name": "#%%\n"
    }
   }
  },
  {
   "cell_type": "code",
   "execution_count": null,
   "outputs": [],
   "source": [
    "if COLAB:\n",
    "    plt.savefig(\n",
    "        os.path.join(\n",
    "            RESULTS_DIR,\n",
    "            f\"linreg_wo_outliers_{today}.png\"\n",
    "        )\n",
    "    )\n",
    "else:\n",
    "    plt.savefig((f\"linreg_wo_outliers_{today}.png\")\n",
    ")"
   ],
   "metadata": {
    "collapsed": false,
    "pycharm": {
     "name": "#%%\n"
    }
   }
  },
  {
   "cell_type": "code",
   "metadata": {
    "id": "Wg1xDZA4Xg4u",
    "colab_type": "code",
    "outputId": "9d586422-8334-4b84-b321-20162b5d6117",
    "colab": {
     "base_uri": "https://localhost:8080/",
     "height": 34
    }
   },
   "source": [
    "if COLAB:\n",
    "    plt.savefig(\n",
    "        os.path.join(\n",
    "            RESULTS_DIR,\n",
    "            f\"linreg_wo_outliers_{today}.png\"\n",
    "        )\n",
    "    )\n",
    "else:\n",
    "    plt.savefig((f\"linreg_wo_outliers_{today}.png\")\n",
    ")"
   ],
   "execution_count": 48,
   "outputs": [
    {
     "output_type": "stream",
     "text": [
      "Training on all data returned: y = [[-0.00552376]] x + [3341990.43270839]\n"
     ],
     "name": "stdout"
    }
   ]
  },
  {
   "cell_type": "code",
   "metadata": {
    "colab_type": "code",
    "outputId": "d9e7e997-ceb6-4ec1-8d0d-dbc0f566a541",
    "id": "bhQsXlRaX4-Y",
    "colab": {
     "base_uri": "https://localhost:8080/",
     "height": 68
    }
   },
   "source": [
    "logger.info('Mean Absolute Error:', round(metrics.mean_absolute_error(y_test, y_pred)))\n",
    "logger.info('Mean Squared Error:', round(metrics.mean_squared_error(y_test, y_pred)) )\n",
    "logger.info('Root Mean Squared Error:', round(np.sqrt(metrics.mean_squared_error(y_test, y_pred))))"
   ],
   "execution_count": 49,
   "outputs": [
    {
     "output_type": "stream",
     "text": [
      "Mean Absolute Error: 729004.0\n",
      "Mean Squared Error: 692947712410.0\n",
      "Root Mean Squared Error: 832435.0\n"
     ],
     "name": "stdout"
    }
   ]
  },
  {
   "cell_type": "code",
   "metadata": {
    "colab_type": "code",
    "outputId": "72db0fdc-f669-4fda-d71e-8cac4288c231",
    "id": "Dj67fjFaX8ns",
    "colab": {
     "base_uri": "https://localhost:8080/",
     "height": 34
    }
   },
   "source": [
    "RMSE = np.sqrt(metrics.mean_squared_error(y_test, y_pred))\n",
    "\n",
    "stats_summary = df_2018[\"visitors\"].describe()\n",
    "mean = stats_summary[\"mean\"]\n",
    "mean_10_percent = mean * 0.1\n",
    "\n",
    "if (RMSE < (mean - mean_10_percent)) or \\\n",
    "    (RMSE > (mean + mean_10_percent)):\n",
    "    logger.warn(\"Model is bad! Proceed with caution.\")"
   ],
   "execution_count": 50,
   "outputs": [
    {
     "output_type": "stream",
     "text": [
      "Model is bad! Proceed with caution.\n"
     ],
     "name": "stdout"
    }
   ]
  },
  {
   "cell_type": "code",
   "metadata": {
    "colab_type": "code",
    "outputId": "44d3e965-48d4-4e62-e9d0-d8fd4e595831",
    "id": "Uo2h6WPaYaCC",
    "colab": {
     "base_uri": "https://localhost:8080/",
     "height": 295
    }
   },
   "source": [
    "plt.scatter(X_train / 1e6, y_train / 1e6,  color='gray')\n",
    "plt.scatter(X_test / 1e6, y_test / 1e6,  color='blue')\n",
    "plt.plot(X_test / 1e6, y_pred / 1e6, color='red', linewidth=2)\n",
    "plt.xlabel(\"Population / millions\")\n",
    "plt.ylabel(\"Visitors / millions\")\n",
    "plt.legend(['Prediction', 'Training', 'Test'])\n",
    "plt.title(\"Outliers removed / linear regression\")\n",
    "plt.savefig(f\"wo_outliers_linear_{today}.png\")"
   ],
   "execution_count": 51,
   "outputs": [
    {
     "output_type": "display_data",
     "data": {
      "image/png": "[encoded data removed]",
      "text/plain": [
       "<Figure size 432x288 with 1 Axes>"
      ]
     },
     "metadata": {
      "tags": []
     }
    }
   ]
  },
  {
   "cell_type": "code",
   "metadata": {
    "id": "GHgbVApq78wY",
    "colab_type": "code",
    "colab": {}
   },
   "source": [
    "if COLAB:\n",
    "    plt.savefig(\n",
    "        os.path.join(\n",
    "            RESULTS_DIR,\n",
    "            f\"linreg_wo_outliers_{today}.png\"\n",
    "        )\n",
    "    )\n",
    "else:\n",
    "    plt.savefig((f\"linreg_wo_outliers_{today}.png\")\n",
    ")"
   ],
   "execution_count": 0,
   "outputs": []
  }
 ]
}